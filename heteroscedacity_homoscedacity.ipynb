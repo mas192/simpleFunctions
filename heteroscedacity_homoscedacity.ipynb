{
 "cells": [
  {
   "cell_type": "code",
   "execution_count": 1,
   "metadata": {},
   "outputs": [],
   "source": [
    "import numpy as np\n",
    "import pandas as pd\n",
    "import matplotlib.pyplot as plt\n",
    "import seaborn as sns\n",
    "from scipy.stats import f_oneway\n",
    "from tqdm import tqdm\n",
    "np.random.seed(42)"
   ]
  },
  {
   "cell_type": "code",
   "execution_count": 2,
   "metadata": {},
   "outputs": [],
   "source": [
    "mu, std = 0, 1\n",
    "muA, stdA = 0, 1\n",
    "muB, stdB = 0, 2\n",
    "muC, StdC = 0,3\n",
    "popA = np.random.normal(mu+5, std, 1000)\n",
    "popB = np.random.normal(mu+5, std, 1000)\n",
    "popC = np.random.normal(mu+5, std, 1000)"
   ]
  },
  {
   "cell_type": "code",
   "execution_count": 3,
   "metadata": {},
   "outputs": [
    {
     "name": "stdout",
     "output_type": "stream",
     "text": [
      " Is population A equal to population B? \n",
      " False\n",
      " Is population A equal to population C? \n",
      " False\n",
      " Is population B equla to population C? \n",
      " False\n"
     ]
    }
   ],
   "source": [
    "print(f' Is population A equal to population B? \\n {np.array_equal(popA, popB)}')\n",
    "print(f' Is population A equal to population C? \\n {np.array_equal(popA, popC)}')\n",
    "print(f' Is population B equla to population C? \\n {np.array_equal(popB, popC)}')"
   ]
  },
  {
   "cell_type": "code",
   "execution_count": 4,
   "metadata": {},
   "outputs": [
    {
     "name": "stdout",
     "output_type": "stream",
     "text": [
      "1000\n",
      "1000\n",
      "1000\n"
     ]
    },
    {
     "data": {
      "image/png": "[encoded data removed]",
      "text/plain": [
       "<Figure size 432x288 with 1 Axes>"
      ]
     },
     "metadata": {
      "needs_background": "light"
     },
     "output_type": "display_data"
    }
   ],
   "source": [
    "for data, color, label in zip([popA, popB, popC], ['g', 'r', 'y'], ['Pop A', 'Pop B', 'Pop C']):\n",
    "    plt.hist(x=data, label=label, color=color, edgecolor='gray')\n",
    "    plt.legend()\n",
    "    print(len(data))"
   ]
  },
  {
   "cell_type": "code",
   "execution_count": 6,
   "metadata": {},
   "outputs": [
    {
     "name": "stderr",
     "output_type": "stream",
     "text": [
      "100%|██████████| 1000/1000 [00:00<00:00, 6735.26it/s]\n"
     ]
    }
   ],
   "source": [
    "Flst = []\n",
    "plst = []\n",
    "for i in tqdm(range(1000)):\n",
    "    sampleA = np.random.normal(mu, std, 100)\n",
    "    sampleB = np.random.normal(mu, std, 70)\n",
    "    sampleC = np.random.normal(mu, std, 30)\n",
    "    F, p = f_oneway(sampleA, sampleB, sampleC)\n",
    "    Flst.append(F)\n",
    "    plst.append(p)\n",
    "    \n",
    "annovaDict = {'F':Flst, 'p':plst}\n",
    "    "
   ]
  },
  {
   "cell_type": "code",
   "execution_count": 7,
   "metadata": {},
   "outputs": [],
   "source": [
    "annovaDf = pd.DataFrame(annovaDict)"
   ]
  },
  {
   "cell_type": "code",
   "execution_count": 8,
   "metadata": {},
   "outputs": [
    {
     "data": {
      "text/plain": [
       "F    1.089592\n",
       "p    0.480663\n",
       "dtype: float64"
      ]
     },
     "execution_count": 8,
     "metadata": {},
     "output_type": "execute_result"
    }
   ],
   "source": [
    "annovaDf.mean()"
   ]
  },
  {
   "cell_type": "code",
   "execution_count": null,
   "metadata": {},
   "outputs": [],
   "source": []
  }
 ],
 "metadata": {
  "kernelspec": {
   "display_name": "Python 3",
   "language": "python",
   "name": "python3"
  },
  "language_info": {
   "codemirror_mode": {
    "name": "ipython",
    "version": 3
   },
   "file_extension": ".py",
   "mimetype": "text/x-python",
   "name": "python",
   "nbconvert_exporter": "python",
   "pygments_lexer": "ipython3",
   "version": "3.9.1"
  }
 },
 "nbformat": 4,
 "nbformat_minor": 4
}
