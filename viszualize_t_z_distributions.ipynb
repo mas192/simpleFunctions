{
 "cells": [
  {
   "cell_type": "code",
   "execution_count": 12,
   "metadata": {
    "collapsed": true,
    "pycharm": {
     "name": "#%%\n"
    }
   },
   "outputs": [
    {
     "data": {
      "text/plain": "<Figure size 432x288 with 1 Axes>",
      "image/png": "[encoded data removed]"
     },
     "metadata": {
      "needs_background": "light"
     },
     "output_type": "display_data"
    }
   ],
   "source": [
    "# inspired from https://stackoverflow.com/questions/42331555/having-trouble-visualizing-a-t-distribution-in-python\n",
    "## Basic T-Distribution\n",
    "import scipy.stats as st\n",
    "import matplotlib.pyplot as plt\n",
    "import numpy as np\n",
    "## Setup\n",
    "dof = 5        # Degrees of freedom\n",
    "alpha = 0.05    # Significence level\n",
    "ntails = 2      # Number of tails\n",
    "\n",
    "## Calculate critical t-score\n",
    "tcrit = abs(st.t.ppf(alpha/ntails, dof))\n",
    "# +=2.068\n",
    "\n",
    "plt.figure()\n",
    "xs = np.linspace(-10,10,1000)\n",
    "plt.plot(xs, st.t.pdf(xs,dof), 'k', label=f\"T-Distribution PDF{dof}\")\n",
    "\n",
    "# ## Plot some vertical lines representing critical t-score cutoff\n",
    "# critline = np.linspace(0,alpha/ntails)  # y range for critical line, AKA probability from 0-p*\n",
    "# xs_1 = len(critline) * [-tcrit]         # X ranges for plotting\n",
    "# xs_2 = len(critline) * [tcrit]\n",
    "# plt.plot(xs_1, critline, 'r', label=\"-t* for dof=23\")\n",
    "# plt.plot(xs_2, critline,'r', label=\"t* for dof=23\")\n",
    "# plt.vlines([-tcrit, tcrit], 0.0, st.t.pdf(tcrit, dof), colors='r')\n",
    "plt.legend()\n",
    "## Setup\n",
    "dof = 23        # Degrees of freedom\n",
    "alpha = 0.05    # Significence level\n",
    "ntails = 2      # Number of tails\n",
    "\n",
    "## Calculate critical t-score\n",
    "tcrit = abs(st.t.ppf(alpha/ntails, dof))\n",
    "# +=2.068\n",
    "\n",
    "\n",
    "xs = np.linspace(-10,10,1000)\n",
    "plt.plot(xs, st.t.pdf(xs,dof), 'k', label=f\"T-Distribution PDF{dof}\")\n",
    "\n",
    "# ## Plot some vertical lines representing critical t-score cutoff\n",
    "# critline = np.linspace(0,alpha/ntails)  # y range for critical line, AKA probability from 0-p*\n",
    "# xs_1 = len(critline) * [-tcrit]         # X ranges for plotting\n",
    "# xs_2 = len(critline) * [tcrit]\n",
    "# plt.plot(xs_1, critline, 'r', label=\"-t* for dof=23\")\n",
    "# plt.plot(xs_2, critline,'r', label=\"t* for dof=23\")\n",
    "# plt.vlines([-tcrit, tcrit], 0.0, st.t.pdf(tcrit, dof), colors='r')\n",
    "plt.legend()\n",
    "\n",
    "## Setup\n",
    "dof = 30      # Degrees of freedom\n",
    "alpha = 0.05    # Significence level\n",
    "ntails = 2      # Number of tails\n",
    "\n",
    "## Calculate critical t-score\n",
    "tcrit = abs(st.t.ppf(alpha/ntails, dof))\n",
    "# +=2.068\n",
    "\n",
    "\n",
    "xs = np.linspace(-10,10,1000)\n",
    "plt.plot(xs, st.t.pdf(xs,dof), 'k', label=f\"T-Distribution PDF{dof}\")\n",
    "\n",
    "# ## Plot some vertical lines representing critical t-score cutoff\n",
    "# critline = np.linspace(0,alpha/ntails)  # y range for critical line, AKA probability from 0-p*\n",
    "# xs_1 = len(critline) * [-tcrit]         # X ranges for plotting\n",
    "# xs_2 = len(critline) * [tcrit]\n",
    "# plt.plot(xs_1, critline, 'r', label=\"-t* for dof=23\")\n",
    "# plt.plot(xs_2, critline,'r', label=\"t* for dof=23\")\n",
    "# plt.vlines([-tcrit, tcrit], 0.0, st.t.pdf(tcrit, dof), colors='r')\n",
    "plt.legend()\n",
    "plt.show()\n",
    "\n",
    "# make the the tvalues genrater a function and pass the dof as an array to plot the different distribution curves for t distribution"
   ]
  }
 ],
 "metadata": {
  "kernelspec": {
   "display_name": "Python 3",
   "language": "python",
   "name": "python3"
  },
  "language_info": {
   "codemirror_mode": {
    "name": "ipython",
    "version": 2
   },
   "file_extension": ".py",
   "mimetype": "text/x-python",
   "name": "python",
   "nbconvert_exporter": "python",
   "pygments_lexer": "ipython2",
   "version": "2.7.6"
  }
 },
 "nbformat": 4,
 "nbformat_minor": 0
}